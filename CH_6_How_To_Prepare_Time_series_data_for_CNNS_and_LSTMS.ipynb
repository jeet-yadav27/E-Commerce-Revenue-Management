{
  "nbformat": 4,
  "nbformat_minor": 0,
  "metadata": {
    "colab": {
      "provenance": [],
      "authorship_tag": "ABX9TyO0Sc1KjpFHJcz3hrXhL8el",
      "include_colab_link": true
    },
    "kernelspec": {
      "name": "python3",
      "display_name": "Python 3"
    },
    "language_info": {
      "name": "python"
    }
  },
  "cells": [
    {
      "cell_type": "markdown",
      "metadata": {
        "id": "view-in-github",
        "colab_type": "text"
      },
      "source": [
        "<a href=\"https://colab.research.google.com/github/jeet-yadav27/E-Commerce-Revenue-Management/blob/main/CH_6_How_To_Prepare_Time_series_data_for_CNNS_and_LSTMS.ipynb\" target=\"_parent\"><img src=\"https://colab.research.google.com/assets/colab-badge.svg\" alt=\"Open In Colab\"/></a>"
      ]
    },
    {
      "cell_type": "code",
      "source": [],
      "metadata": {
        "id": "WiGLxTDd9hPn"
      },
      "execution_count": null,
      "outputs": []
    },
    {
      "cell_type": "markdown",
      "source": [
        "### transform univariate time series to supervised learning problem"
      ],
      "metadata": {
        "id": "6xC5Rv5-9iL7"
      }
    },
    {
      "cell_type": "code",
      "execution_count": 4,
      "metadata": {
        "colab": {
          "base_uri": "https://localhost:8080/"
        },
        "id": "0CJUyexZ9IIb",
        "outputId": "f8ee7043-7cea-457b-aa0e-c6b0bbd025a2"
      },
      "outputs": [
        {
          "output_type": "stream",
          "name": "stdout",
          "text": [
            "(10,)\n",
            "(7, 3) (7,)\n",
            "[1 2 3] 4\n",
            "[2 3 4] 5\n",
            "[3 4 5] 6\n",
            "[4 5 6] 7\n",
            "[5 6 7] 8\n",
            "[6 7 8] 9\n",
            "[7 8 9] 10\n"
          ]
        }
      ],
      "source": [
        "import numpy as np\n",
        "\n",
        "# Split a univariate sequence into samples\n",
        "def split_sequence(sequence, n_steps):\n",
        "    X, y = [], []\n",
        "    for i in range(len(sequence)):\n",
        "        # Find the end of this pattern\n",
        "        end_ix = i + n_steps\n",
        "        # Check if we are beyond the sequence\n",
        "        if end_ix > len(sequence)-1:\n",
        "            break\n",
        "        # Gather input and output parts of the pattern\n",
        "        seq_x, seq_y = sequence[i:end_ix], sequence[end_ix]\n",
        "        X.append(seq_x)\n",
        "        y.append(seq_y)\n",
        "    return np.array(X), np.array(y)\n",
        "\n",
        "# Define univariate time series\n",
        "series = np.array([1, 2, 3, 4, 5, 6, 7, 8, 9, 10])\n",
        "print(series.shape)\n",
        "\n",
        "# Transform to a supervised learning problem\n",
        "X, y = split_sequence(series, 3)\n",
        "print(X.shape, y.shape)\n",
        "\n",
        "# Show each sample\n",
        "for i in range(len(X)):\n",
        "    print(X[i], y[i])"
      ]
    },
    {
      "cell_type": "code",
      "source": [],
      "metadata": {
        "id": "d-EcPfYd-6fh"
      },
      "execution_count": null,
      "outputs": []
    },
    {
      "cell_type": "markdown",
      "source": [],
      "metadata": {
        "id": "9G2f59X1_60-"
      }
    },
    {
      "cell_type": "markdown",
      "source": [
        "### 3D Data Preparation Basics"
      ],
      "metadata": {
        "id": "Gk7o0rEr_63Q"
      }
    },
    {
      "cell_type": "markdown",
      "source": [],
      "metadata": {
        "id": "LZ9-71eoAc46"
      }
    },
    {
      "cell_type": "code",
      "source": [
        "import numpy as np\n",
        "\n",
        "# Split a univariate sequence into samples\n",
        "def split_sequence(sequence, n_steps):\n",
        "    # Initialize empty lists for input and output\n",
        "    X, y = [], []\n",
        "\n",
        "    for i in range(len(sequence)):\n",
        "        # Find the end of this pattern\n",
        "        end_ix = i + n_steps\n",
        "\n",
        "        # Check if we are beyond the sequence\n",
        "        if end_ix > len(sequence)-1:\n",
        "            break\n",
        "\n",
        "        # Gather input and output parts of the pattern\n",
        "        seq_x, seq_y = sequence[i:end_ix], sequence[end_ix]\n",
        "\n",
        "        # Append to input and output lists\n",
        "        X.append(seq_x)\n",
        "        y.append(seq_y)\n",
        "\n",
        "    # Return input and output arrays\n",
        "    return np.array(X), np.array(y)\n",
        "\n",
        "# Define univariate time series\n",
        "series = np.array([1, 2, 3, 4, 5, 6, 7, 8, 9, 10])\n",
        "print(\"Original Series Shape:\", series.shape)\n",
        "\n",
        "# Transform to a supervised learning problem\n",
        "X, y = split_sequence(series, 3)\n",
        "print(\"Transformed X Shape:\", X.shape)\n",
        "print(\"Transformed y Shape:\", y.shape)\n",
        "\n",
        "# Transform input from [samples, features] to [samples, timesteps, features]\n",
        "X = X.reshape((X.shape[0], X.shape[1], 1))\n",
        "print(\"Reshaped X Shape:\", X.shape)\n"
      ],
      "metadata": {
        "colab": {
          "base_uri": "https://localhost:8080/"
        },
        "id": "rbgmVRpS-6hd",
        "outputId": "03507e87-70fb-41b9-835c-e673765c945d"
      },
      "execution_count": 8,
      "outputs": [
        {
          "output_type": "stream",
          "name": "stdout",
          "text": [
            "Original Series Shape: (10,)\n",
            "Transformed X Shape: (7, 3)\n",
            "Transformed y Shape: (7,)\n",
            "Reshaped X Shape: (7, 3, 1)\n"
          ]
        }
      ]
    },
    {
      "cell_type": "markdown",
      "source": [],
      "metadata": {
        "id": "PnoP2Dx8Adxa"
      }
    },
    {
      "cell_type": "markdown",
      "source": [
        "###Data Preparation Example\n",
        "Consider that you are in the current situation:\n",
        "I have two columns in my data \fle with 5,000 rows, column 1 is time (with 1 hour\n",
        "interval) and column 2 is the number of sales and I am trying to forecast the number\n",
        "of sales for future time steps. Help me to set the number of samples, time steps and\n",
        "features in this data for an LSTM?\n",
        "There are few problems here:\n",
        " Data Shape. LSTMs expect 3D input, and it can be challenging to get your head around\n",
        "this the \frst time.\n",
        " Sequence Length. LSTMs don't like sequences of more than 200-400 time steps, so the\n",
        "data will need to be split into subsamples.\n",
        "We will work through this example, broken down into the following 4 steps:\n",
        "1. Load the Data\n",
        "2. Drop the Time Column\n",
        "3. Split Into Samples\n",
        "4. Reshape Subsequences"
      ],
      "metadata": {
        "id": "Ja9ISEo6Ad0h"
      }
    },
    {
      "cell_type": "markdown",
      "source": [
        "Step 1: Load the Data"
      ],
      "metadata": {
        "id": "me22pH0qA3GW"
      }
    },
    {
      "cell_type": "code",
      "source": [
        "# example of defining a dataset\n",
        "from numpy import array\n",
        "# define the dataset\n",
        "data = list()\n",
        "n = 5000\n",
        "for i in range(n):\n",
        " data.append([i+1, (i+1)*10])\n",
        "data = array(data)\n",
        "print(data.shape)"
      ],
      "metadata": {
        "colab": {
          "base_uri": "https://localhost:8080/"
        },
        "id": "oyqmS6pMA4Pe",
        "outputId": "16d0127e-d383-4d38-a3b7-68e49efb2cec"
      },
      "execution_count": 11,
      "outputs": [
        {
          "output_type": "stream",
          "name": "stdout",
          "text": [
            "(5000, 2)\n"
          ]
        }
      ]
    },
    {
      "cell_type": "markdown",
      "source": [
        "Running this piece both prints the \frst 5 rows of data and the shape of the loaded data. We\n",
        "can see we have 5,000 rows and 2 columns: a standard univariate time series dataset"
      ],
      "metadata": {
        "id": "Vv4wuf2sCdN1"
      }
    },
    {
      "cell_type": "markdown",
      "source": [],
      "metadata": {
        "id": "SiFR0Q3mCr8_"
      }
    },
    {
      "cell_type": "markdown",
      "source": [
        "Step2: Drop the Time Column"
      ],
      "metadata": {
        "id": "E-O0CIjVCr_K"
      }
    },
    {
      "cell_type": "code",
      "source": [
        "# example of dropping the time dimension from the dataset\n",
        "from numpy import array\n",
        "# define the dataset\n",
        "data = list()\n",
        "n = 5000\n",
        "for i in range(n):\n",
        " data.append([i+1, (i+1)*10])\n",
        "data = array(data)\n",
        "# drop time\n",
        "data = data[:, 1]\n",
        "print(data[:5])\n",
        "print(data.shape)"
      ],
      "metadata": {
        "colab": {
          "base_uri": "https://localhost:8080/"
        },
        "id": "KW5QgkckA4RL",
        "outputId": "fbef441b-78df-40d4-b7c5-948759ef8b75"
      },
      "execution_count": 14,
      "outputs": [
        {
          "output_type": "stream",
          "name": "stdout",
          "text": [
            "[10 20 30 40 50]\n",
            "(5000,)\n"
          ]
        }
      ]
    },
    {
      "cell_type": "markdown",
      "source": [
        "Step 3:  Split Into Samples"
      ],
      "metadata": {
        "id": "DK-Im7acD1sP"
      }
    },
    {
      "cell_type": "code",
      "source": [
        "from numpy import array\n",
        "\n",
        "# Define the dataset\n",
        "data = list()\n",
        "n = 5000\n",
        "\n",
        "for i in range(n):\n",
        "    data.append([i+1, (i+1)*10])\n",
        "\n",
        "data = array(data)\n",
        "\n",
        "# Drop time\n",
        "data = data[:, 1]\n",
        "\n",
        "# Split into samples (e.g. 5000/200 = 25)\n",
        "samples = list()\n",
        "length = 200\n",
        "\n",
        "# Step over the 5,000 in jumps of 200\n",
        "for i in range(0, n, length):\n",
        "    # Grab from i to i + 200\n",
        "    sample = data[i:i+length]\n",
        "    samples.append(sample)\n",
        "\n",
        "print(len(samples))"
      ],
      "metadata": {
        "colab": {
          "base_uri": "https://localhost:8080/"
        },
        "id": "e4vp0RhoD4_0",
        "outputId": "5017adcc-78ef-454a-c866-52ed76cbba0c"
      },
      "execution_count": 15,
      "outputs": [
        {
          "output_type": "stream",
          "name": "stdout",
          "text": [
            "25\n"
          ]
        }
      ]
    },
    {
      "cell_type": "markdown",
      "source": [
        "Step 4: Reshape Subsequences\n",
        "\n",
        "\n",
        "\n",
        "\n",
        "\n",
        "\n",
        "\n",
        "1.    The LSTM needs data with the format of [samples, timesteps, features]. We have 25\n",
        "\n",
        "2.   samples, 200 time steps per sample, and 1 feature. First, we need to convert our list of into a 2D NumPy array with the shape [25, 200]"
      ],
      "metadata": {
        "id": "CdV0xen7EZ50"
      }
    },
    {
      "cell_type": "code",
      "source": [
        "from numpy import array\n",
        "# define the dataset\n",
        "data = list()\n",
        "n = 5000\n",
        "for i in range(n):\n",
        "  data.append([i+1, (i+1)*10])\n",
        "data = array(data)\n",
        "# drop time\n",
        "data = data[:, 1]\n",
        "# split into samples (e.g. 5000/200 = 25)\n",
        "samples = list()\n",
        "length = 200\n",
        "# step over the 5,000 in jumps of 200\n",
        "for i in range(0,n,length):\n",
        "# grab from i to i + 200\n",
        "   sample = data[i:i+length]\n",
        "   samples.append(sample)\n",
        "# convert list of arrays into 2d array\n",
        "data = array(samples)\n",
        "print(data.shape)"
      ],
      "metadata": {
        "colab": {
          "base_uri": "https://localhost:8080/"
        },
        "id": "OKH7vXhtEckA",
        "outputId": "7a7bcc51-7a95-4550-ed1c-f997ba60b2cc"
      },
      "execution_count": 17,
      "outputs": [
        {
          "output_type": "stream",
          "name": "stdout",
          "text": [
            "(25, 200)\n"
          ]
        }
      ]
    },
    {
      "cell_type": "code",
      "source": [
        "data\n"
      ],
      "metadata": {
        "colab": {
          "base_uri": "https://localhost:8080/"
        },
        "id": "XEAbjiYxEclz",
        "outputId": "a66a9013-8e2f-4bed-b1b7-1f59ffb50422"
      },
      "execution_count": 18,
      "outputs": [
        {
          "output_type": "execute_result",
          "data": {
            "text/plain": [
              "array([[   10,    20,    30, ...,  1980,  1990,  2000],\n",
              "       [ 2010,  2020,  2030, ...,  3980,  3990,  4000],\n",
              "       [ 4010,  4020,  4030, ...,  5980,  5990,  6000],\n",
              "       ...,\n",
              "       [44010, 44020, 44030, ..., 45980, 45990, 46000],\n",
              "       [46010, 46020, 46030, ..., 47980, 47990, 48000],\n",
              "       [48010, 48020, 48030, ..., 49980, 49990, 50000]])"
            ]
          },
          "metadata": {},
          "execution_count": 18
        }
      ]
    },
    {
      "cell_type": "markdown",
      "source": [],
      "metadata": {
        "id": "-YIZwRSTGCXS"
      }
    },
    {
      "cell_type": "markdown",
      "source": [
        "Next, we can use the reshape() function to add one additional dimension for our single\n",
        "feature and use the existing columns as time steps instead."
      ],
      "metadata": {
        "id": "KKdYP8TaGCZz"
      }
    },
    {
      "cell_type": "code",
      "source": [
        "# example of creating a 3d array of subsequences\n",
        "from numpy import array\n",
        "# define the dataset\n",
        "data = list()\n",
        "n = 5000\n",
        "for i in range(n):\n",
        " data.append([i+1, (i+1)*10])\n",
        "data = array(data)\n",
        "# drop time\n",
        "data = data[:, 1]\n",
        "# split into samples (e.g. 5000/200 = 25)\n",
        "samples = list()\n",
        "length = 200\n",
        "# step over the 5,000 in jumps of 200\n",
        "for i in range(0,n,length):\n",
        "# grab from i to i + 200\n",
        "  sample = data[i:i+length]\n",
        "  samples.append(sample)\n",
        "# convert list of arrays into 2d array\n",
        "data = array(samples)\n",
        "# reshape into [samples, timesteps, features]\n",
        "data = data.reshape((len(samples), length, 1))\n",
        "print(data.shape)"
      ],
      "metadata": {
        "colab": {
          "base_uri": "https://localhost:8080/"
        },
        "id": "WDejUWcaD5Bq",
        "outputId": "44922954-680f-40fd-a00c-f103d9359244"
      },
      "execution_count": 19,
      "outputs": [
        {
          "output_type": "stream",
          "name": "stdout",
          "text": [
            "(25, 200, 1)\n"
          ]
        }
      ]
    },
    {
      "cell_type": "code",
      "source": [
        "data"
      ],
      "metadata": {
        "colab": {
          "base_uri": "https://localhost:8080/"
        },
        "id": "3oUEjw0QGKpN",
        "outputId": "fc742e51-14dd-487e-f7dc-bb4e3f2cc2fb"
      },
      "execution_count": 20,
      "outputs": [
        {
          "output_type": "execute_result",
          "data": {
            "text/plain": [
              "array([[[   10],\n",
              "        [   20],\n",
              "        [   30],\n",
              "        ...,\n",
              "        [ 1980],\n",
              "        [ 1990],\n",
              "        [ 2000]],\n",
              "\n",
              "       [[ 2010],\n",
              "        [ 2020],\n",
              "        [ 2030],\n",
              "        ...,\n",
              "        [ 3980],\n",
              "        [ 3990],\n",
              "        [ 4000]],\n",
              "\n",
              "       [[ 4010],\n",
              "        [ 4020],\n",
              "        [ 4030],\n",
              "        ...,\n",
              "        [ 5980],\n",
              "        [ 5990],\n",
              "        [ 6000]],\n",
              "\n",
              "       ...,\n",
              "\n",
              "       [[44010],\n",
              "        [44020],\n",
              "        [44030],\n",
              "        ...,\n",
              "        [45980],\n",
              "        [45990],\n",
              "        [46000]],\n",
              "\n",
              "       [[46010],\n",
              "        [46020],\n",
              "        [46030],\n",
              "        ...,\n",
              "        [47980],\n",
              "        [47990],\n",
              "        [48000]],\n",
              "\n",
              "       [[48010],\n",
              "        [48020],\n",
              "        [48030],\n",
              "        ...,\n",
              "        [49980],\n",
              "        [49990],\n",
              "        [50000]]])"
            ]
          },
          "metadata": {},
          "execution_count": 20
        }
      ]
    },
    {
      "cell_type": "markdown",
      "source": [
        "And that is it. The data can now be used as an input (X) to an LSTM model, or even a\n",
        "CNN model."
      ],
      "metadata": {
        "id": "lK_iOYfXI-ym"
      }
    }
  ]
}